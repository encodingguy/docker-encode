{
 "cells": [
  {
   "cell_type": "code",
   "execution_count": 1,
   "metadata": {},
   "outputs": [],
   "source": [
    "%load_ext yuuno"
   ]
  },
  {
   "cell_type": "code",
   "execution_count": null,
   "metadata": {},
   "outputs": [],
   "source": [
    "%%vspreview\n",
    "import vapoursynth as vs\n",
    "import havsfunc as haf\n",
    "import mvsfunc as mvf\n",
    "#导入相关函数\n",
    "\n",
    "core = vs.get_core()\n",
    "\n",
    "#请依据自己内存调整(单位MB)\n",
    "core.max_cache_size = 27384\n",
    "\n",
    "#加载片源\n",
    "src = core.ffms2.Source(source=r'/encode/After.the.Storm.2016.BluRay.Remux.1080p.AVC.TrueHD.5.1-HiFi.mkv')\n",
    "\n",
    "#另一种加载片源，输入即为16bit色深\n",
    "#src = core.lsmas.LWLibavSource(source=r\"/encode/After.the.Storm.2016.BluRay.Remux.1080p.AVC.TrueHD.5.1-HiFi.mkv\",format=\"yuv420p16\")\n",
    "\n",
    "#处理前调整为16bit色深，可以降低运算带来的损失\n",
    "src = mvf.Depth(src, 16)\n",
    "\n",
    "#切边\n",
    "src=core.std.Crop(src, left=0, right=0, top=20, bottom=20)\n",
    "\n",
    "#脏边处理相关\n",
    "#src = core.fb.FillBorders(src, 0, 1, 0, 0, mode=\"fillmargins\")\n",
    "#src = core.edgefixer.Continuity(src,left=4, right=4)\n",
    "\n",
    "#将分辨率（压制为720p）\n",
    "#src=core.resize.Spline36(src, 1280, 692)\n",
    "\n",
    "#转为10bit再输出，x265一般压制为10bit,x264为8bit\n",
    "src = mvf.Depth(src, 10)\n"
   ]
  }
 ],
 "metadata": {
  "kernelspec": {
   "display_name": "Python 3",
   "language": "python",
   "name": "python3"
  },
  "language_info": {
   "codemirror_mode": {
    "name": "ipython",
    "version": 3
   },
   "file_extension": ".py",
   "mimetype": "text/x-python",
   "name": "python",
   "nbconvert_exporter": "python",
   "pygments_lexer": "ipython3",
   "version": "3.8.5"
  }
 },
 "nbformat": 4,
 "nbformat_minor": 4
}
